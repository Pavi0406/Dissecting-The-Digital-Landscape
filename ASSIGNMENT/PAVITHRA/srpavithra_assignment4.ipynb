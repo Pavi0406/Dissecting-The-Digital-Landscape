{
  "nbformat": 4,
  "nbformat_minor": 0,
  "metadata": {
    "colab": {
      "provenance": []
    },
    "kernelspec": {
      "name": "python3",
      "display_name": "Python 3"
    },
    "language_info": {
      "name": "python"
    }
  },
  "cells": [
    {
      "cell_type": "code",
      "execution_count": null,
      "metadata": {
        "colab": {
          "base_uri": "https://localhost:8080/"
        },
        "id": "1Pk6vXpVXKeu",
        "outputId": "d9791548-5f65-4501-ab9c-26ca9b6d0af2"
      },
      "outputs": [
        {
          "output_type": "stream",
          "name": "stdout",
          "text": [
            "['a', 'b', 'c', 1, 2, 3]\n"
          ]
        }
      ],
      "source": [
        "#Task - 1 Create two list and join those two list\n",
        "\n",
        "list1 = [\"a\", \"b\" , \"c\"]\n",
        "list2 = [1, 2, 3]\n",
        "list3 = list1 + list2\n",
        "print(list3)"
      ]
    },
    {
      "cell_type": "code",
      "source": [
        "#Task - 2 With If statement find the even numbers\n",
        "\n",
        "num = int (input (\"Enter any number:\"))\n",
        "if (num % 2) == 0:\n",
        "  print (\"The number is even\")"
      ],
      "metadata": {
        "colab": {
          "base_uri": "https://localhost:8080/"
        },
        "id": "hPhw5oMaXpXB",
        "outputId": "38c6df8a-4acf-4046-c2ec-2003e18f8d30"
      },
      "execution_count": null,
      "outputs": [
        {
          "output_type": "stream",
          "name": "stdout",
          "text": [
            "Enter any number:2\n",
            "The number is even\n"
          ]
        }
      ]
    },
    {
      "cell_type": "code",
      "source": [
        "#Task - 3 Create a dictionary with 3 keys and 2 values for each key\n",
        "\n",
        "dict = {\n",
        "      'A': ['one', 'two'],\n",
        "      'B': ['three', 'four'],\n",
        "      'C': ['five', 'six']\n",
        "  }\n",
        "print(dict)"
      ],
      "metadata": {
        "colab": {
          "base_uri": "https://localhost:8080/"
        },
        "id": "SIe2E9qUXpad",
        "outputId": "60d2b33e-2482-4fe1-f5de-df50a2114fce"
      },
      "execution_count": null,
      "outputs": [
        {
          "output_type": "stream",
          "name": "stdout",
          "text": [
            "{'A': ['one', 'two'], 'B': ['three', 'four'], 'C': ['five', 'six']}\n"
          ]
        }
      ]
    },
    {
      "cell_type": "code",
      "source": [
        "#Task - 4 Create a function with If statement whis is used to find the odd numbers\n",
        "\n",
        "num = int (input (\"Enter any number:\"))\n",
        "if (num % 2) != 0:\n",
        "     print (\"The number is odd\")"
      ],
      "metadata": {
        "colab": {
          "base_uri": "https://localhost:8080/"
        },
        "id": "ngkhuJTxXplb",
        "outputId": "7c4fdd51-5c66-4e82-9e32-6e7b57619013"
      },
      "execution_count": null,
      "outputs": [
        {
          "output_type": "stream",
          "name": "stdout",
          "text": [
            "Enter any number:3\n",
            "The number is odd\n"
          ]
        }
      ]
    },
    {
      "cell_type": "code",
      "source": [
        "#Task - 5 Write a Python function to sum all the numbers in a list\n",
        "\n",
        "def sum(numbers):\n",
        "      total = 0\n",
        "      for x in numbers:\n",
        "          total += x\n",
        "      return total\n",
        "print(sum((8, 2, 3, 0, 7)))"
      ],
      "metadata": {
        "colab": {
          "base_uri": "https://localhost:8080/"
        },
        "id": "jCI9QbR0ZOuR",
        "outputId": "6aea2f2e-2da3-466f-fd8a-346489cd53d9"
      },
      "execution_count": null,
      "outputs": [
        {
          "output_type": "stream",
          "name": "stdout",
          "text": [
            "20\n"
          ]
        }
      ]
    }
  ]
}